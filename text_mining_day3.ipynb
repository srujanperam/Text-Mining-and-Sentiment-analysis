{
 "cells": [
  {
   "cell_type": "markdown",
   "metadata": {},
   "source": [
    "# Topic Modeling"
   ]
  },
  {
   "cell_type": "code",
   "execution_count": 8,
   "metadata": {},
   "outputs": [],
   "source": [
    "import pandas as pd\n",
    "import numpy as np\n",
    "import nltk"
   ]
  },
  {
   "cell_type": "code",
   "execution_count": 2,
   "metadata": {},
   "outputs": [
    {
     "data": {
      "text/plain": [
       "(100000, 8)"
      ]
     },
     "execution_count": 2,
     "metadata": {},
     "output_type": "execute_result"
    }
   ],
   "source": [
    "amazon = pd.read_csv('amazon_reviews_big.csv')\n",
    "amazon.shape"
   ]
  },
  {
   "cell_type": "code",
   "execution_count": 3,
   "metadata": {},
   "outputs": [
    {
     "data": {
      "text/html": [
       "<div>\n",
       "<style scoped>\n",
       "    .dataframe tbody tr th:only-of-type {\n",
       "        vertical-align: middle;\n",
       "    }\n",
       "\n",
       "    .dataframe tbody tr th {\n",
       "        vertical-align: top;\n",
       "    }\n",
       "\n",
       "    .dataframe thead th {\n",
       "        text-align: right;\n",
       "    }\n",
       "</style>\n",
       "<table border=\"1\" class=\"dataframe\">\n",
       "  <thead>\n",
       "    <tr style=\"text-align: right;\">\n",
       "      <th></th>\n",
       "      <th>asin</th>\n",
       "      <th>overall</th>\n",
       "      <th>reviewText</th>\n",
       "      <th>reviewTime</th>\n",
       "      <th>reviewerID</th>\n",
       "      <th>reviewerName</th>\n",
       "      <th>summary</th>\n",
       "      <th>unixReviewTime</th>\n",
       "    </tr>\n",
       "  </thead>\n",
       "  <tbody>\n",
       "    <tr>\n",
       "      <th>0</th>\n",
       "      <td>B000HDJXNA</td>\n",
       "      <td>1</td>\n",
       "      <td>What I recieved is not what is pictured here O...</td>\n",
       "      <td>12 26, 2012</td>\n",
       "      <td>A29YXBFTD7QUP3</td>\n",
       "      <td>HHA</td>\n",
       "      <td>Buyer be ware</td>\n",
       "      <td>1.356480e+09</td>\n",
       "    </tr>\n",
       "    <tr>\n",
       "      <th>1</th>\n",
       "      <td>B006KKS7XQ</td>\n",
       "      <td>5</td>\n",
       "      <td>Excellent unit and a pretty simple install usi...</td>\n",
       "      <td>09 20, 2013</td>\n",
       "      <td>A3IMTXFYD7CGDN</td>\n",
       "      <td>Peter W. George \"soyflakeman\"</td>\n",
       "      <td>high quality without high price</td>\n",
       "      <td>1.379635e+09</td>\n",
       "    </tr>\n",
       "    <tr>\n",
       "      <th>2</th>\n",
       "      <td>B002NP8XJ0</td>\n",
       "      <td>5</td>\n",
       "      <td>I'm enjoying this keyboard, I'm getting anothe...</td>\n",
       "      <td>08 31, 2010</td>\n",
       "      <td>AXNOW20FQKHVW</td>\n",
       "      <td>B. Hayashi</td>\n",
       "      <td>Superb keyboard + solution for slow wake up an...</td>\n",
       "      <td>1.283213e+09</td>\n",
       "    </tr>\n",
       "    <tr>\n",
       "      <th>3</th>\n",
       "      <td>B000EITTLE</td>\n",
       "      <td>4</td>\n",
       "      <td>Overall, this is a fantastic camera that I'm e...</td>\n",
       "      <td>02 3, 2008</td>\n",
       "      <td>A10KCAK279LO0W</td>\n",
       "      <td>mmcwatters \"macdadi80\"</td>\n",
       "      <td>One qualm: not great in low light</td>\n",
       "      <td>1.201997e+09</td>\n",
       "    </tr>\n",
       "    <tr>\n",
       "      <th>4</th>\n",
       "      <td>B006CRXK4S</td>\n",
       "      <td>5</td>\n",
       "      <td>These work very well with mySamsung PN64D7000 ...</td>\n",
       "      <td>01 28, 2012</td>\n",
       "      <td>A19XXLMZXR764J</td>\n",
       "      <td>S. Garfinkle</td>\n",
       "      <td>Work great, fit well</td>\n",
       "      <td>1.327709e+09</td>\n",
       "    </tr>\n",
       "  </tbody>\n",
       "</table>\n",
       "</div>"
      ],
      "text/plain": [
       "         asin  overall                                         reviewText  \\\n",
       "0  B000HDJXNA        1  What I recieved is not what is pictured here O...   \n",
       "1  B006KKS7XQ        5  Excellent unit and a pretty simple install usi...   \n",
       "2  B002NP8XJ0        5  I'm enjoying this keyboard, I'm getting anothe...   \n",
       "3  B000EITTLE        4  Overall, this is a fantastic camera that I'm e...   \n",
       "4  B006CRXK4S        5  These work very well with mySamsung PN64D7000 ...   \n",
       "\n",
       "    reviewTime      reviewerID                   reviewerName  \\\n",
       "0  12 26, 2012  A29YXBFTD7QUP3                            HHA   \n",
       "1  09 20, 2013  A3IMTXFYD7CGDN  Peter W. George \"soyflakeman\"   \n",
       "2  08 31, 2010   AXNOW20FQKHVW                     B. Hayashi   \n",
       "3   02 3, 2008  A10KCAK279LO0W         mmcwatters \"macdadi80\"   \n",
       "4  01 28, 2012  A19XXLMZXR764J                   S. Garfinkle   \n",
       "\n",
       "                                             summary  unixReviewTime  \n",
       "0                                      Buyer be ware    1.356480e+09  \n",
       "1                    high quality without high price    1.379635e+09  \n",
       "2  Superb keyboard + solution for slow wake up an...    1.283213e+09  \n",
       "3                  One qualm: not great in low light    1.201997e+09  \n",
       "4                               Work great, fit well    1.327709e+09  "
      ]
     },
     "execution_count": 3,
     "metadata": {},
     "output_type": "execute_result"
    }
   ],
   "source": [
    "amazon.head()"
   ]
  },
  {
   "cell_type": "code",
   "execution_count": 6,
   "metadata": {},
   "outputs": [
    {
     "name": "stderr",
     "output_type": "stream",
     "text": [
      "C:\\Users\\admin\\Anaconda3\\lib\\site-packages\\gensim\\utils.py:1212: UserWarning: detected Windows; aliasing chunkize to chunkize_serial\n",
      "  warnings.warn(\"detected Windows; aliasing chunkize to chunkize_serial\")\n"
     ]
    }
   ],
   "source": [
    "import gensim"
   ]
  },
  {
   "cell_type": "code",
   "execution_count": 7,
   "metadata": {},
   "outputs": [
    {
     "data": {
      "text/plain": [
       "0    what i recieved is not what is pictured here o...\n",
       "1    excellent unit and a pretty simple install usi...\n",
       "2    im enjoying this keyboard im getting another o...\n",
       "3    overall this is a fantastic camera that im ext...\n",
       "4    these work very well with mysamsung pnd inch p...\n",
       "Name: reviewText, dtype: object"
      ]
     },
     "execution_count": 7,
     "metadata": {},
     "output_type": "execute_result"
    }
   ],
   "source": [
    "docs = amazon['reviewText'].fillna('').str.lower().str.replace('[^a-z ]', '')\n",
    "docs.head()"
   ]
  },
  {
   "cell_type": "code",
   "execution_count": 43,
   "metadata": {},
   "outputs": [
    {
     "data": {
      "text/plain": [
       "100000"
      ]
     },
     "execution_count": 43,
     "metadata": {},
     "output_type": "execute_result"
    }
   ],
   "source": [
    "docs_clean = []\n",
    "stopwords = nltk.corpus.stopwords.words('english')\n",
    "junk_words = ['', 'great', 'would', 'get', 'good', 'use', 'like', 'one',\n",
    "             'works']\n",
    "\n",
    "stopwords.extend(junk_words)\n",
    "for doc in docs:\n",
    "    row_words = [word for word in doc.split(' ') if word not in stopwords]\n",
    "    docs_clean.append(row_words)\n",
    "len(docs_clean)"
   ]
  },
  {
   "cell_type": "code",
   "execution_count": 44,
   "metadata": {},
   "outputs": [],
   "source": [
    "dictionary = gensim.corpora.Dictionary(docs_clean)"
   ]
  },
  {
   "cell_type": "code",
   "execution_count": 21,
   "metadata": {},
   "outputs": [
    {
     "name": "stdout",
     "output_type": "stream",
     "text": [
      "Dictionary(176487 unique tokens: ['', 'advertized', 'amazoncom', 'anything', 'attempt']...)\n"
     ]
    }
   ],
   "source": [
    "print(dictionary)"
   ]
  },
  {
   "cell_type": "code",
   "execution_count": 37,
   "metadata": {},
   "outputs": [
    {
     "name": "stdout",
     "output_type": "stream",
     "text": [
      "3\n",
      "anything\n"
     ]
    }
   ],
   "source": [
    "print(dictionary.token2id['anything'])\n",
    "print(dictionary.id2token[3])"
   ]
  },
  {
   "cell_type": "code",
   "execution_count": 45,
   "metadata": {},
   "outputs": [],
   "source": [
    "docs_bow = [dictionary.doc2bow(doc) for doc in docs_clean]"
   ]
  },
  {
   "cell_type": "code",
   "execution_count": 98,
   "metadata": {},
   "outputs": [
    {
     "data": {
      "text/plain": [
       "<gensim.models.ldamodel.LdaModel at 0x26fa24eda20>"
      ]
     },
     "execution_count": 98,
     "metadata": {},
     "output_type": "execute_result"
    }
   ],
   "source": [
    "ldamodel = gensim.models.LdaModel(docs_bow, id2word=dictionary, num_topics=4)\n",
    "ldamodel"
   ]
  },
  {
   "cell_type": "code",
   "execution_count": 111,
   "metadata": {},
   "outputs": [
    {
     "data": {
      "text/plain": [
       "[(0,\n",
       "  '0.025*\"camera\" + 0.013*\"lens\" + 0.011*\"battery\" + 0.006*\"quality\" + 0.006*\"canon\" + 0.006*\"batteries\" + 0.005*\"mm\" + 0.005*\"light\" + 0.005*\"pictures\" + 0.005*\"video\"'),\n",
       " (1,\n",
       "  '0.013*\"sound\" + 0.009*\"tv\" + 0.008*\"quality\" + 0.007*\"cable\" + 0.006*\"price\" + 0.005*\"dont\" + 0.005*\"speakers\" + 0.005*\"better\" + 0.005*\"really\" + 0.005*\"much\"'),\n",
       " (2,\n",
       "  '0.009*\"usb\" + 0.009*\"drive\" + 0.006*\"computer\" + 0.005*\"card\" + 0.005*\"work\" + 0.005*\"device\" + 0.005*\"power\" + 0.005*\"time\" + 0.004*\"using\" + 0.004*\"software\"'),\n",
       " (3,\n",
       "  '0.018*\"case\" + 0.008*\"well\" + 0.007*\"ipad\" + 0.007*\"screen\" + 0.007*\"keyboard\" + 0.005*\"fit\" + 0.005*\"cover\" + 0.005*\"nice\" + 0.005*\"little\" + 0.005*\"product\"')]"
      ]
     },
     "execution_count": 111,
     "metadata": {},
     "output_type": "execute_result"
    }
   ],
   "source": [
    "ldamodel.print_topics()"
   ]
  },
  {
   "cell_type": "code",
   "execution_count": 99,
   "metadata": {},
   "outputs": [
    {
     "data": {
      "text/plain": [
       "[(0, 0.04118218), (2, 0.8570878), (3, 0.10046885)]"
      ]
     },
     "execution_count": 99,
     "metadata": {},
     "output_type": "execute_result"
    }
   ],
   "source": [
    "ldamodel.get_document_topics(docs_bow[600])"
   ]
  },
  {
   "cell_type": "code",
   "execution_count": 107,
   "metadata": {},
   "outputs": [
    {
     "data": {
      "text/plain": [
       "2"
      ]
     },
     "execution_count": 107,
     "metadata": {},
     "output_type": "execute_result"
    }
   ],
   "source": [
    "pd.DataFrame(ldamodel.get_document_topics(docs_bow[600]),\n",
    "            columns=['topic', 'prob']).sort_values(\n",
    "    'prob').tail(1)['topic'].values[0]"
   ]
  },
  {
   "cell_type": "code",
   "execution_count": 108,
   "metadata": {},
   "outputs": [
    {
     "data": {
      "text/plain": [
       "[2, 3, 2, 0, 1]"
      ]
     },
     "execution_count": 108,
     "metadata": {},
     "output_type": "execute_result"
    }
   ],
   "source": [
    "topics = []\n",
    "for doc_bow in docs_bow:\n",
    "    topic = pd.DataFrame(ldamodel.get_document_topics(doc_bow),\n",
    "            columns=['topic', 'prob']).sort_values(\n",
    "            'prob').tail(1)['topic'].values[0]\n",
    "    topics.append(topic)\n",
    "topics[:5]"
   ]
  },
  {
   "cell_type": "code",
   "execution_count": 113,
   "metadata": {},
   "outputs": [
    {
     "data": {
      "text/plain": [
       "<matplotlib.axes._subplots.AxesSubplot at 0x26fa4c556a0>"
      ]
     },
     "execution_count": 113,
     "metadata": {},
     "output_type": "execute_result"
    },
    {
     "data": {
      "image/png": "[encoded data removed]",
      "text/plain": [
       "<Figure size 432x288 with 1 Axes>"
      ]
     },
     "metadata": {},
     "output_type": "display_data"
    }
   ],
   "source": [
    "%matplotlib inline\n",
    "amazon['topic_number'] = topics\n",
    "amazon['topic'] = amazon['topic_number'].replace({0: 'camera', 1: 'sound',\n",
    "                                                  2: 'usb', 3: 'case'})\n",
    "amazon['topic'].value_counts().plot.barh()"
   ]
  },
  {
   "cell_type": "code",
   "execution_count": 124,
   "metadata": {},
   "outputs": [
    {
     "data": {
      "text/plain": [
       "[(217, 0.025130125),\n",
       " (526, 0.013004725),\n",
       " (403, 0.0110555375),\n",
       " (34, 0.006082288),\n",
       " (218, 0.005504521),\n",
       " (671, 0.0055003148),\n",
       " (266, 0.0053888755),\n",
       " (164, 0.00527816),\n",
       " (234, 0.005138186),\n",
       " (788, 0.004997895)]"
      ]
     },
     "execution_count": 124,
     "metadata": {},
     "output_type": "execute_result"
    }
   ],
   "source": [
    "ldamodel.get_topic_terms(0)"
   ]
  },
  {
   "cell_type": "code",
   "execution_count": 149,
   "metadata": {},
   "outputs": [],
   "source": [
    "df_topic2word = pd.DataFrame()\n",
    "for topic_number in range(4):\n",
    "    df = pd.DataFrame(ldamodel.get_topic_terms(topic_number),\n",
    "                     columns=['wordid', 'prob'])\n",
    "    df['word'] = df['wordid'].apply(lambda v: dictionary[v])\n",
    "    df['topic'] = topic_number\n",
    "    df_topic2word = df_topic2word.append(df, ignore_index=True)\n",
    "#df_topic2word"
   ]
  },
  {
   "cell_type": "code",
   "execution_count": 147,
   "metadata": {
    "scrolled": true
   },
   "outputs": [
    {
     "data": {
      "text/plain": [
       "<matplotlib.axes._subplots.AxesSubplot at 0x26fa6b40358>"
      ]
     },
     "execution_count": 147,
     "metadata": {},
     "output_type": "execute_result"
    },
    {
     "data": {
      "image/png": "[encoded data removed]",
      "text/plain": [
       "<Figure size 720x432 with 4 Axes>"
      ]
     },
     "metadata": {},
     "output_type": "display_data"
    }
   ],
   "source": [
    "import matplotlib.pyplot as plt\n",
    "df_topic2word.index = df_topic2word['word']\n",
    "fig, axs = plt.subplots(2,2)\n",
    "df_topic2word[df_topic2word['topic']==0]['prob'][::-1].plot.barh(\n",
    "    color='steelblue', ax=axs[0,0], figsize=(10,6))\n",
    "df_topic2word[df_topic2word['topic']==1]['prob'][::-1].plot.barh(\n",
    "    color='steelblue', ax=axs[0,1])\n",
    "df_topic2word[df_topic2word['topic']==2]['prob'][::-1].plot.barh(\n",
    "    color='steelblue', ax=axs[1,0])\n",
    "df_topic2word[df_topic2word['topic']==3]['prob'][::-1].plot.barh(\n",
    "    color='steelblue', ax=axs[1,1])"
   ]
  },
  {
   "cell_type": "markdown",
   "metadata": {},
   "source": [
    "# Twitter Scraping"
   ]
  },
  {
   "cell_type": "code",
   "execution_count": 155,
   "metadata": {},
   "outputs": [],
   "source": [
    "consumer_api = 'Vjaxun6LMPyDH5snUhrIuYO9w'\n",
    "consumer_api_secret = 'ODe9oDQBmkW7Ra6oxZ4oCPbXmgAgXJLjdJFDfjmt2PfJFd80rh'\n",
    "access_token = '150321726-RK2lUztz5JP7YbnAgcPEkoKAodbhG37PIp6WhYmQ'\n",
    "access_secret = 'Jj5mxsTRoqJm5e2vhEsUoc9PZcz9P9HK9zFL57CDoSpWn'"
   ]
  },
  {
   "cell_type": "code",
   "execution_count": 160,
   "metadata": {},
   "outputs": [],
   "source": [
    "import tweepy\n",
    "auth = tweepy.OAuthHandler(consumer_api, consumer_api_secret)\n",
    "auth.set_access_token(access_token, access_secret)\n",
    "api = tweepy.API(auth, wait_on_rate_limit=True)"
   ]
  },
  {
   "cell_type": "code",
   "execution_count": 163,
   "metadata": {},
   "outputs": [
    {
     "data": {
      "text/plain": [
       "100"
      ]
     },
     "execution_count": 163,
     "metadata": {},
     "output_type": "execute_result"
    }
   ],
   "source": [
    "flipkart = api.search('#flipkart', count=1000)\n",
    "len(flipkart)"
   ]
  },
  {
   "cell_type": "code",
   "execution_count": 178,
   "metadata": {},
   "outputs": [
    {
     "data": {
      "text/html": [
       "<div>\n",
       "<style scoped>\n",
       "    .dataframe tbody tr th:only-of-type {\n",
       "        vertical-align: middle;\n",
       "    }\n",
       "\n",
       "    .dataframe tbody tr th {\n",
       "        vertical-align: top;\n",
       "    }\n",
       "\n",
       "    .dataframe thead th {\n",
       "        text-align: right;\n",
       "    }\n",
       "</style>\n",
       "<table border=\"1\" class=\"dataframe\">\n",
       "  <thead>\n",
       "    <tr style=\"text-align: right;\">\n",
       "      <th></th>\n",
       "      <th>date</th>\n",
       "      <th>name</th>\n",
       "      <th>screen_name</th>\n",
       "      <th>text</th>\n",
       "    </tr>\n",
       "  </thead>\n",
       "  <tbody>\n",
       "    <tr>\n",
       "      <th>0</th>\n",
       "      <td>2019-01-05 10:35:50</td>\n",
       "      <td>Harsh Rawat</td>\n",
       "      <td>Rawat_Harsh61</td>\n",
       "      <td>Received wrong product. No one from #Myntra He...</td>\n",
       "    </tr>\n",
       "    <tr>\n",
       "      <th>1</th>\n",
       "      <td>2019-01-05 10:31:25</td>\n",
       "      <td>HS Nepali</td>\n",
       "      <td>hs_nepali</td>\n",
       "      <td>RT @HSnewsLive: ड्राइवर के साथ मिलीभगत करके @F...</td>\n",
       "    </tr>\n",
       "    <tr>\n",
       "      <th>2</th>\n",
       "      <td>2019-01-05 10:29:23</td>\n",
       "      <td>Ashok Prasad</td>\n",
       "      <td>ashoksis</td>\n",
       "      <td>RT @HSnewsLive: ड्राइवर के साथ मिलीभगत करके @F...</td>\n",
       "    </tr>\n",
       "    <tr>\n",
       "      <th>3</th>\n",
       "      <td>2019-01-05 10:23:31</td>\n",
       "      <td>mariyam ali</td>\n",
       "      <td>mariyam53531058</td>\n",
       "      <td>Participate in Guess What? on Flipkart and win...</td>\n",
       "    </tr>\n",
       "    <tr>\n",
       "      <th>4</th>\n",
       "      <td>2019-01-05 09:50:26</td>\n",
       "      <td>Cauvery News</td>\n",
       "      <td>cauverytv</td>\n",
       "      <td>இணையத்தில் வாட்ச் வாங்குவோர் கவனத்திற்கு... செ...</td>\n",
       "    </tr>\n",
       "    <tr>\n",
       "      <th>5</th>\n",
       "      <td>2019-01-05 09:43:30</td>\n",
       "      <td>Indalkumar</td>\n",
       "      <td>indalku27375708</td>\n",
       "      <td>RT @nutramantra: #Nutramantra #RichAyurveda\\nI...</td>\n",
       "    </tr>\n",
       "    <tr>\n",
       "      <th>6</th>\n",
       "      <td>2019-01-05 09:38:45</td>\n",
       "      <td>sabarish</td>\n",
       "      <td>sabarish4</td>\n",
       "      <td>@myntra #feeling #frustrated I really don't kn...</td>\n",
       "    </tr>\n",
       "    <tr>\n",
       "      <th>7</th>\n",
       "      <td>2019-01-05 09:38:18</td>\n",
       "      <td>couponframe</td>\n",
       "      <td>CouponFrame</td>\n",
       "      <td>#Runner &amp;amp; #Door #Mat - up to 80% off \\nhtt...</td>\n",
       "    </tr>\n",
       "    <tr>\n",
       "      <th>8</th>\n",
       "      <td>2019-01-05 09:28:20</td>\n",
       "      <td>Pallav Prince</td>\n",
       "      <td>pallav_prince</td>\n",
       "      <td>Flipkart cheating customer.\\nPrice on Flipkart...</td>\n",
       "    </tr>\n",
       "    <tr>\n",
       "      <th>9</th>\n",
       "      <td>2019-01-05 09:25:58</td>\n",
       "      <td>Dealogasm</td>\n",
       "      <td>dealogasm</td>\n",
       "      <td>Take your smartphone experience to the next le...</td>\n",
       "    </tr>\n",
       "    <tr>\n",
       "      <th>10</th>\n",
       "      <td>2019-01-05 09:21:33</td>\n",
       "      <td>ஆர்வக்கோளாறு™ 🇮🇳</td>\n",
       "      <td>motheen_farook</td>\n",
       "      <td>RT @Suyanalavaathi: அமேசான் (#Amazon) பிளிப்கா...</td>\n",
       "    </tr>\n",
       "    <tr>\n",
       "      <th>11</th>\n",
       "      <td>2019-01-05 09:21:23</td>\n",
       "      <td>AnkitaDsinha</td>\n",
       "      <td>AnkitaDsinha</td>\n",
       "      <td>Got 3 Jutis from @Flipkart and price was just ...</td>\n",
       "    </tr>\n",
       "    <tr>\n",
       "      <th>12</th>\n",
       "      <td>2019-01-05 09:20:04</td>\n",
       "      <td>தேன்மிட்டாய்</td>\n",
       "      <td>Theanu1910</td>\n",
       "      <td>RT @Suyanalavaathi: அமேசான் (#Amazon) பிளிப்கா...</td>\n",
       "    </tr>\n",
       "    <tr>\n",
       "      <th>13</th>\n",
       "      <td>2019-01-05 09:17:54</td>\n",
       "      <td>ATUL KUMAR SINGH</td>\n",
       "      <td>atul_kmr_singh</td>\n",
       "      <td>@flipkartsupport Better you people can replace...</td>\n",
       "    </tr>\n",
       "    <tr>\n",
       "      <th>14</th>\n",
       "      <td>2019-01-05 09:07:05</td>\n",
       "      <td>ATUL KUMAR SINGH</td>\n",
       "      <td>atul_kmr_singh</td>\n",
       "      <td>The Order ID is OD114266887014180000. Now the ...</td>\n",
       "    </tr>\n",
       "    <tr>\n",
       "      <th>15</th>\n",
       "      <td>2019-01-05 08:34:55</td>\n",
       "      <td>THE SHADOW🇫🇷🇺🇸🇬🇧</td>\n",
       "      <td>CIA_QATAR</td>\n",
       "      <td>RT @ExpressTechie: #Realme will be holding a t...</td>\n",
       "    </tr>\n",
       "    <tr>\n",
       "      <th>16</th>\n",
       "      <td>2019-01-05 08:33:58</td>\n",
       "      <td>Abhishek Pandey</td>\n",
       "      <td>abhishek14796</td>\n",
       "      <td>@amazonIN is making fool out of customer these...</td>\n",
       "    </tr>\n",
       "    <tr>\n",
       "      <th>17</th>\n",
       "      <td>2019-01-05 08:30:37</td>\n",
       "      <td>The Indian Express</td>\n",
       "      <td>IndianExpress</td>\n",
       "      <td>RT @ExpressTechie: #Realme will be holding a t...</td>\n",
       "    </tr>\n",
       "    <tr>\n",
       "      <th>18</th>\n",
       "      <td>2019-01-05 08:30:27</td>\n",
       "      <td>Express Technology</td>\n",
       "      <td>ExpressTechie</td>\n",
       "      <td>#Realme will be holding a three-day sale start...</td>\n",
       "    </tr>\n",
       "    <tr>\n",
       "      <th>19</th>\n",
       "      <td>2019-01-05 08:26:28</td>\n",
       "      <td>vivek sharma</td>\n",
       "      <td>sharmavivekdes1</td>\n",
       "      <td>Have A Fantastic Spring \\nWeekend Everyone Wit...</td>\n",
       "    </tr>\n",
       "    <tr>\n",
       "      <th>20</th>\n",
       "      <td>2019-01-05 08:26:17</td>\n",
       "      <td>Fantastico</td>\n",
       "      <td>FantasticoTrad1</td>\n",
       "      <td>Have A Fantastic Spring \\nWeekend Everyone Wit...</td>\n",
       "    </tr>\n",
       "    <tr>\n",
       "      <th>21</th>\n",
       "      <td>2019-01-05 08:25:34</td>\n",
       "      <td>Webdunia Tamil</td>\n",
       "      <td>WebduniaTamil</td>\n",
       "      <td>விரையுங்கள் இன்றே கடைசி... ஹானர் டே சேல் மலைக்...</td>\n",
       "    </tr>\n",
       "    <tr>\n",
       "      <th>22</th>\n",
       "      <td>2019-01-05 08:21:57</td>\n",
       "      <td>கடைநிலை ஊழியன்</td>\n",
       "      <td>Suyanalavaathi</td>\n",
       "      <td>அமேசான் (#Amazon) பிளிப்கார்ட் (#Flipkart) டெல...</td>\n",
       "    </tr>\n",
       "    <tr>\n",
       "      <th>23</th>\n",
       "      <td>2019-01-05 08:19:56</td>\n",
       "      <td>aadiprint</td>\n",
       "      <td>aadiprint</td>\n",
       "      <td>Do you want a #Love_Heart fridge Wrap? \\nAvail...</td>\n",
       "    </tr>\n",
       "    <tr>\n",
       "      <th>24</th>\n",
       "      <td>2019-01-05 08:09:32</td>\n",
       "      <td>HS News</td>\n",
       "      <td>HSnewsLive</td>\n",
       "      <td>ड्राइवर के साथ मिलीभगत करके @Flipkart के ट्रक ...</td>\n",
       "    </tr>\n",
       "    <tr>\n",
       "      <th>25</th>\n",
       "      <td>2019-01-05 07:51:26</td>\n",
       "      <td>Faiyaz Khan</td>\n",
       "      <td>BeingFaiyazKhan</td>\n",
       "      <td>if you don't have delivery in any particular a...</td>\n",
       "    </tr>\n",
       "    <tr>\n",
       "      <th>26</th>\n",
       "      <td>2019-01-05 07:45:51</td>\n",
       "      <td>ATUL KUMAR SINGH</td>\n",
       "      <td>atul_kmr_singh</td>\n",
       "      <td>@Flipkart WHO IS GOING TO BEAR THAT EXTRA OFFE...</td>\n",
       "    </tr>\n",
       "    <tr>\n",
       "      <th>27</th>\n",
       "      <td>2019-01-05 07:39:08</td>\n",
       "      <td>BiggDeals</td>\n",
       "      <td>BiggDeals4U</td>\n",
       "      <td>For #FlipkartPlus members...\\n\\nThose who have...</td>\n",
       "    </tr>\n",
       "    <tr>\n",
       "      <th>28</th>\n",
       "      <td>2019-01-05 07:30:34</td>\n",
       "      <td>Sasmita Sahoo</td>\n",
       "      <td>Sasmita13772086</td>\n",
       "      <td>Participate in Guess What? on Flipkart and exc...</td>\n",
       "    </tr>\n",
       "    <tr>\n",
       "      <th>29</th>\n",
       "      <td>2019-01-05 07:26:38</td>\n",
       "      <td>Amayra Singh Gill</td>\n",
       "      <td>Amayragill1</td>\n",
       "      <td>#JetFire Brought to you #Combo of #WicketKeepi...</td>\n",
       "    </tr>\n",
       "    <tr>\n",
       "      <th>...</th>\n",
       "      <td>...</td>\n",
       "      <td>...</td>\n",
       "      <td>...</td>\n",
       "      <td>...</td>\n",
       "    </tr>\n",
       "    <tr>\n",
       "      <th>70</th>\n",
       "      <td>2019-01-04 20:04:15</td>\n",
       "      <td>Shahbaz</td>\n",
       "      <td>shahbaz_anjum_</td>\n",
       "      <td>Participate in Guess What? on Flipkart and exc...</td>\n",
       "    </tr>\n",
       "    <tr>\n",
       "      <th>71</th>\n",
       "      <td>2019-01-04 19:43:46</td>\n",
       "      <td>Tomislav Krejacic</td>\n",
       "      <td>TomoKreja</td>\n",
       "      <td>RT @TomoKreja: https://t.co/RAyKfQnO8G #WorldK...</td>\n",
       "    </tr>\n",
       "    <tr>\n",
       "      <th>72</th>\n",
       "      <td>2019-01-04 19:28:44</td>\n",
       "      <td>Kapil</td>\n",
       "      <td>Kapil58728304</td>\n",
       "      <td>RT @Nakkhul_Jaidev: VERY IMPORTANT: I RECIEVED...</td>\n",
       "    </tr>\n",
       "    <tr>\n",
       "      <th>73</th>\n",
       "      <td>2019-01-04 19:02:01</td>\n",
       "      <td>SEO Gold Services</td>\n",
       "      <td>SEOGoldUK</td>\n",
       "      <td>Flipkart Slow Lighthouse Time to Interactive @...</td>\n",
       "    </tr>\n",
       "    <tr>\n",
       "      <th>74</th>\n",
       "      <td>2019-01-04 18:52:34</td>\n",
       "      <td>Munna mahato</td>\n",
       "      <td>immunnamahato</td>\n",
       "      <td>Participate in Guess What? on Flipkart and exc...</td>\n",
       "    </tr>\n",
       "    <tr>\n",
       "      <th>75</th>\n",
       "      <td>2019-01-04 18:27:49</td>\n",
       "      <td>Subhankar Roy Karmak</td>\n",
       "      <td>KarmakSubhankar</td>\n",
       "      <td>Participate in Guess What? on Flipkart and exc...</td>\n",
       "    </tr>\n",
       "    <tr>\n",
       "      <th>76</th>\n",
       "      <td>2019-01-04 17:39:34</td>\n",
       "      <td>BhagwaanKePakwaan</td>\n",
       "      <td>BKP_FoodOfGods</td>\n",
       "      <td>Less than a month to go until #BhagwaanKePakwa...</td>\n",
       "    </tr>\n",
       "    <tr>\n",
       "      <th>77</th>\n",
       "      <td>2019-01-04 17:37:12</td>\n",
       "      <td>#Rapsas_info_media</td>\n",
       "      <td>sudeepgov</td>\n",
       "      <td>#Flipkart #offers on #smartwatches, #fitness t...</td>\n",
       "    </tr>\n",
       "    <tr>\n",
       "      <th>78</th>\n",
       "      <td>2019-01-04 17:35:04</td>\n",
       "      <td>BiggDeals</td>\n",
       "      <td>BiggDeals4U</td>\n",
       "      <td>#Panasonic ER-GY10-K44B Cordless #Trimmer for ...</td>\n",
       "    </tr>\n",
       "    <tr>\n",
       "      <th>79</th>\n",
       "      <td>2019-01-04 17:34:57</td>\n",
       "      <td>BiggDeals</td>\n",
       "      <td>BiggDeals4U</td>\n",
       "      <td>#Syska HT100U Cordless #Trimmer for Men at 699...</td>\n",
       "    </tr>\n",
       "    <tr>\n",
       "      <th>80</th>\n",
       "      <td>2019-01-04 17:04:08</td>\n",
       "      <td>Rituraj Singh</td>\n",
       "      <td>Rituraj25593022</td>\n",
       "      <td>#flipkart 3tym my replacement is canceled  kya...</td>\n",
       "    </tr>\n",
       "    <tr>\n",
       "      <th>81</th>\n",
       "      <td>2019-01-04 16:59:02</td>\n",
       "      <td>S26 Store</td>\n",
       "      <td>S26_India</td>\n",
       "      <td>The only carrots that interest me are the numb...</td>\n",
       "    </tr>\n",
       "    <tr>\n",
       "      <th>82</th>\n",
       "      <td>2019-01-04 16:48:05</td>\n",
       "      <td>Goody Gadgetzz</td>\n",
       "      <td>goodygadgetzz</td>\n",
       "      <td>Did they just SHIP 4 Million Units in their De...</td>\n",
       "    </tr>\n",
       "    <tr>\n",
       "      <th>83</th>\n",
       "      <td>2019-01-04 16:33:31</td>\n",
       "      <td>PM Deepak</td>\n",
       "      <td>PMDeepakof303</td>\n",
       "      <td>@FlipkartStories When @Flipkart's delivery exe...</td>\n",
       "    </tr>\n",
       "    <tr>\n",
       "      <th>84</th>\n",
       "      <td>2019-01-04 16:30:00</td>\n",
       "      <td>DesiDime</td>\n",
       "      <td>desi_dime</td>\n",
       "      <td>#Adidas Boys shorts at Rs 164 only on #Flipkar...</td>\n",
       "    </tr>\n",
       "    <tr>\n",
       "      <th>85</th>\n",
       "      <td>2019-01-04 16:24:54</td>\n",
       "      <td>BiggDeals</td>\n",
       "      <td>BiggDeals4U</td>\n",
       "      <td>RT @BiggDeals4U: Women Trackpants Starts @ Rs....</td>\n",
       "    </tr>\n",
       "    <tr>\n",
       "      <th>86</th>\n",
       "      <td>2019-01-04 16:24:53</td>\n",
       "      <td>BiggDeals</td>\n",
       "      <td>BiggDeals4U</td>\n",
       "      <td>RT @BiggDeals4U: Upto 68% Off on #MemoryCards ...</td>\n",
       "    </tr>\n",
       "    <tr>\n",
       "      <th>87</th>\n",
       "      <td>2019-01-04 16:24:52</td>\n",
       "      <td>BiggDeals</td>\n",
       "      <td>BiggDeals4U</td>\n",
       "      <td>RT @BiggDeals4U: #FitnessBands upto 62% off on...</td>\n",
       "    </tr>\n",
       "    <tr>\n",
       "      <th>88</th>\n",
       "      <td>2019-01-04 16:20:41</td>\n",
       "      <td>Ajin</td>\n",
       "      <td>ajin_ananth</td>\n",
       "      <td>Get #coupons, #Deals and #offers from #flipkar...</td>\n",
       "    </tr>\n",
       "    <tr>\n",
       "      <th>89</th>\n",
       "      <td>2019-01-04 15:55:04</td>\n",
       "      <td>BiggDeals</td>\n",
       "      <td>BiggDeals4U</td>\n",
       "      <td>{Lowest Price} #Microsoft #SurfacePro Core m3 ...</td>\n",
       "    </tr>\n",
       "    <tr>\n",
       "      <th>90</th>\n",
       "      <td>2019-01-04 15:37:02</td>\n",
       "      <td>On9deals</td>\n",
       "      <td>on9deals</td>\n",
       "      <td>#Hot\\n#Flipkart #Happy Vu #Year #Flipkart Offe...</td>\n",
       "    </tr>\n",
       "    <tr>\n",
       "      <th>91</th>\n",
       "      <td>2019-01-04 15:34:37</td>\n",
       "      <td>Umakanth</td>\n",
       "      <td>Umakant24879854</td>\n",
       "      <td>#Flipkart not yet delivered, today we called t...</td>\n",
       "    </tr>\n",
       "    <tr>\n",
       "      <th>92</th>\n",
       "      <td>2019-01-04 15:02:38</td>\n",
       "      <td>TRAILOKYA NATH DASH</td>\n",
       "      <td>trailokyanathd3</td>\n",
       "      <td>Flipkart is not doing my solution of my proble...</td>\n",
       "    </tr>\n",
       "    <tr>\n",
       "      <th>93</th>\n",
       "      <td>2019-01-04 15:01:18</td>\n",
       "      <td>PC Monitors</td>\n",
       "      <td>pcmonitorss</td>\n",
       "      <td>RT @DealsToMasti: #lenovo Ideapad 330 15.6 inc...</td>\n",
       "    </tr>\n",
       "    <tr>\n",
       "      <th>94</th>\n",
       "      <td>2019-01-04 14:52:38</td>\n",
       "      <td>EMM Y WANI</td>\n",
       "      <td>Bolal_Wani</td>\n",
       "      <td>Thanku for your quick response.\\n@Flipkart \\n#...</td>\n",
       "    </tr>\n",
       "    <tr>\n",
       "      <th>95</th>\n",
       "      <td>2019-01-04 14:52:21</td>\n",
       "      <td>Kapil</td>\n",
       "      <td>kapiln13</td>\n",
       "      <td>@flipkart #Flipkart can I have some update?</td>\n",
       "    </tr>\n",
       "    <tr>\n",
       "      <th>96</th>\n",
       "      <td>2019-01-04 14:39:16</td>\n",
       "      <td>DealsToMasti</td>\n",
       "      <td>DealsToMasti</td>\n",
       "      <td>#lenovo Ideapad 330 15.6 inch with Ryzen 5, wi...</td>\n",
       "    </tr>\n",
       "    <tr>\n",
       "      <th>97</th>\n",
       "      <td>2019-01-04 14:32:32</td>\n",
       "      <td>NK Li Narayanan</td>\n",
       "      <td>LiNarayanan</td>\n",
       "      <td>India effectively prohibits #Amazon and #Flipk...</td>\n",
       "    </tr>\n",
       "    <tr>\n",
       "      <th>98</th>\n",
       "      <td>2019-01-04 14:20:45</td>\n",
       "      <td>Ashish Negi</td>\n",
       "      <td>ashish_negiddn</td>\n",
       "      <td>#flipkart any update?\\nHope i Will receive it ...</td>\n",
       "    </tr>\n",
       "    <tr>\n",
       "      <th>99</th>\n",
       "      <td>2019-01-04 14:18:18</td>\n",
       "      <td>Ben Schroeter</td>\n",
       "      <td>ben_schroeter</td>\n",
       "      <td>India prohibits #Amazon and #Flipkart to act a...</td>\n",
       "    </tr>\n",
       "  </tbody>\n",
       "</table>\n",
       "<p>100 rows × 4 columns</p>\n",
       "</div>"
      ],
      "text/plain": [
       "                  date                  name      screen_name  \\\n",
       "0  2019-01-05 10:35:50           Harsh Rawat    Rawat_Harsh61   \n",
       "1  2019-01-05 10:31:25             HS Nepali        hs_nepali   \n",
       "2  2019-01-05 10:29:23          Ashok Prasad         ashoksis   \n",
       "3  2019-01-05 10:23:31           mariyam ali  mariyam53531058   \n",
       "4  2019-01-05 09:50:26          Cauvery News        cauverytv   \n",
       "5  2019-01-05 09:43:30            Indalkumar  indalku27375708   \n",
       "6  2019-01-05 09:38:45              sabarish        sabarish4   \n",
       "7  2019-01-05 09:38:18           couponframe      CouponFrame   \n",
       "8  2019-01-05 09:28:20         Pallav Prince    pallav_prince   \n",
       "9  2019-01-05 09:25:58             Dealogasm        dealogasm   \n",
       "10 2019-01-05 09:21:33     ஆர்வக்கோளாறு™ 🇮🇳   motheen_farook   \n",
       "11 2019-01-05 09:21:23          AnkitaDsinha     AnkitaDsinha   \n",
       "12 2019-01-05 09:20:04          தேன்மிட்டாய்       Theanu1910   \n",
       "13 2019-01-05 09:17:54      ATUL KUMAR SINGH   atul_kmr_singh   \n",
       "14 2019-01-05 09:07:05      ATUL KUMAR SINGH   atul_kmr_singh   \n",
       "15 2019-01-05 08:34:55      THE SHADOW🇫🇷🇺🇸🇬🇧        CIA_QATAR   \n",
       "16 2019-01-05 08:33:58       Abhishek Pandey    abhishek14796   \n",
       "17 2019-01-05 08:30:37    The Indian Express    IndianExpress   \n",
       "18 2019-01-05 08:30:27    Express Technology    ExpressTechie   \n",
       "19 2019-01-05 08:26:28          vivek sharma  sharmavivekdes1   \n",
       "20 2019-01-05 08:26:17            Fantastico  FantasticoTrad1   \n",
       "21 2019-01-05 08:25:34        Webdunia Tamil    WebduniaTamil   \n",
       "22 2019-01-05 08:21:57        கடைநிலை ஊழியன்   Suyanalavaathi   \n",
       "23 2019-01-05 08:19:56             aadiprint        aadiprint   \n",
       "24 2019-01-05 08:09:32               HS News       HSnewsLive   \n",
       "25 2019-01-05 07:51:26           Faiyaz Khan  BeingFaiyazKhan   \n",
       "26 2019-01-05 07:45:51      ATUL KUMAR SINGH   atul_kmr_singh   \n",
       "27 2019-01-05 07:39:08             BiggDeals      BiggDeals4U   \n",
       "28 2019-01-05 07:30:34         Sasmita Sahoo  Sasmita13772086   \n",
       "29 2019-01-05 07:26:38     Amayra Singh Gill      Amayragill1   \n",
       "..                 ...                   ...              ...   \n",
       "70 2019-01-04 20:04:15               Shahbaz   shahbaz_anjum_   \n",
       "71 2019-01-04 19:43:46     Tomislav Krejacic        TomoKreja   \n",
       "72 2019-01-04 19:28:44                 Kapil    Kapil58728304   \n",
       "73 2019-01-04 19:02:01     SEO Gold Services        SEOGoldUK   \n",
       "74 2019-01-04 18:52:34          Munna mahato    immunnamahato   \n",
       "75 2019-01-04 18:27:49  Subhankar Roy Karmak  KarmakSubhankar   \n",
       "76 2019-01-04 17:39:34     BhagwaanKePakwaan   BKP_FoodOfGods   \n",
       "77 2019-01-04 17:37:12    #Rapsas_info_media        sudeepgov   \n",
       "78 2019-01-04 17:35:04             BiggDeals      BiggDeals4U   \n",
       "79 2019-01-04 17:34:57             BiggDeals      BiggDeals4U   \n",
       "80 2019-01-04 17:04:08         Rituraj Singh  Rituraj25593022   \n",
       "81 2019-01-04 16:59:02             S26 Store        S26_India   \n",
       "82 2019-01-04 16:48:05        Goody Gadgetzz    goodygadgetzz   \n",
       "83 2019-01-04 16:33:31             PM Deepak    PMDeepakof303   \n",
       "84 2019-01-04 16:30:00              DesiDime        desi_dime   \n",
       "85 2019-01-04 16:24:54             BiggDeals      BiggDeals4U   \n",
       "86 2019-01-04 16:24:53             BiggDeals      BiggDeals4U   \n",
       "87 2019-01-04 16:24:52             BiggDeals      BiggDeals4U   \n",
       "88 2019-01-04 16:20:41                  Ajin      ajin_ananth   \n",
       "89 2019-01-04 15:55:04             BiggDeals      BiggDeals4U   \n",
       "90 2019-01-04 15:37:02              On9deals         on9deals   \n",
       "91 2019-01-04 15:34:37              Umakanth  Umakant24879854   \n",
       "92 2019-01-04 15:02:38   TRAILOKYA NATH DASH  trailokyanathd3   \n",
       "93 2019-01-04 15:01:18           PC Monitors      pcmonitorss   \n",
       "94 2019-01-04 14:52:38            EMM Y WANI       Bolal_Wani   \n",
       "95 2019-01-04 14:52:21                 Kapil         kapiln13   \n",
       "96 2019-01-04 14:39:16          DealsToMasti     DealsToMasti   \n",
       "97 2019-01-04 14:32:32       NK Li Narayanan      LiNarayanan   \n",
       "98 2019-01-04 14:20:45           Ashish Negi   ashish_negiddn   \n",
       "99 2019-01-04 14:18:18         Ben Schroeter    ben_schroeter   \n",
       "\n",
       "                                                 text  \n",
       "0   Received wrong product. No one from #Myntra He...  \n",
       "1   RT @HSnewsLive: ड्राइवर के साथ मिलीभगत करके @F...  \n",
       "2   RT @HSnewsLive: ड्राइवर के साथ मिलीभगत करके @F...  \n",
       "3   Participate in Guess What? on Flipkart and win...  \n",
       "4   இணையத்தில் வாட்ச் வாங்குவோர் கவனத்திற்கு... செ...  \n",
       "5   RT @nutramantra: #Nutramantra #RichAyurveda\\nI...  \n",
       "6   @myntra #feeling #frustrated I really don't kn...  \n",
       "7   #Runner &amp; #Door #Mat - up to 80% off \\nhtt...  \n",
       "8   Flipkart cheating customer.\\nPrice on Flipkart...  \n",
       "9   Take your smartphone experience to the next le...  \n",
       "10  RT @Suyanalavaathi: அமேசான் (#Amazon) பிளிப்கா...  \n",
       "11  Got 3 Jutis from @Flipkart and price was just ...  \n",
       "12  RT @Suyanalavaathi: அமேசான் (#Amazon) பிளிப்கா...  \n",
       "13  @flipkartsupport Better you people can replace...  \n",
       "14  The Order ID is OD114266887014180000. Now the ...  \n",
       "15  RT @ExpressTechie: #Realme will be holding a t...  \n",
       "16  @amazonIN is making fool out of customer these...  \n",
       "17  RT @ExpressTechie: #Realme will be holding a t...  \n",
       "18  #Realme will be holding a three-day sale start...  \n",
       "19  Have A Fantastic Spring \\nWeekend Everyone Wit...  \n",
       "20  Have A Fantastic Spring \\nWeekend Everyone Wit...  \n",
       "21  விரையுங்கள் இன்றே கடைசி... ஹானர் டே சேல் மலைக்...  \n",
       "22  அமேசான் (#Amazon) பிளிப்கார்ட் (#Flipkart) டெல...  \n",
       "23  Do you want a #Love_Heart fridge Wrap? \\nAvail...  \n",
       "24  ड्राइवर के साथ मिलीभगत करके @Flipkart के ट्रक ...  \n",
       "25  if you don't have delivery in any particular a...  \n",
       "26  @Flipkart WHO IS GOING TO BEAR THAT EXTRA OFFE...  \n",
       "27  For #FlipkartPlus members...\\n\\nThose who have...  \n",
       "28  Participate in Guess What? on Flipkart and exc...  \n",
       "29  #JetFire Brought to you #Combo of #WicketKeepi...  \n",
       "..                                                ...  \n",
       "70  Participate in Guess What? on Flipkart and exc...  \n",
       "71  RT @TomoKreja: https://t.co/RAyKfQnO8G #WorldK...  \n",
       "72  RT @Nakkhul_Jaidev: VERY IMPORTANT: I RECIEVED...  \n",
       "73  Flipkart Slow Lighthouse Time to Interactive @...  \n",
       "74  Participate in Guess What? on Flipkart and exc...  \n",
       "75  Participate in Guess What? on Flipkart and exc...  \n",
       "76  Less than a month to go until #BhagwaanKePakwa...  \n",
       "77  #Flipkart #offers on #smartwatches, #fitness t...  \n",
       "78  #Panasonic ER-GY10-K44B Cordless #Trimmer for ...  \n",
       "79  #Syska HT100U Cordless #Trimmer for Men at 699...  \n",
       "80  #flipkart 3tym my replacement is canceled  kya...  \n",
       "81  The only carrots that interest me are the numb...  \n",
       "82  Did they just SHIP 4 Million Units in their De...  \n",
       "83  @FlipkartStories When @Flipkart's delivery exe...  \n",
       "84  #Adidas Boys shorts at Rs 164 only on #Flipkar...  \n",
       "85  RT @BiggDeals4U: Women Trackpants Starts @ Rs....  \n",
       "86  RT @BiggDeals4U: Upto 68% Off on #MemoryCards ...  \n",
       "87  RT @BiggDeals4U: #FitnessBands upto 62% off on...  \n",
       "88  Get #coupons, #Deals and #offers from #flipkar...  \n",
       "89  {Lowest Price} #Microsoft #SurfacePro Core m3 ...  \n",
       "90  #Hot\\n#Flipkart #Happy Vu #Year #Flipkart Offe...  \n",
       "91  #Flipkart not yet delivered, today we called t...  \n",
       "92  Flipkart is not doing my solution of my proble...  \n",
       "93  RT @DealsToMasti: #lenovo Ideapad 330 15.6 inc...  \n",
       "94  Thanku for your quick response.\\n@Flipkart \\n#...  \n",
       "95        @flipkart #Flipkart can I have some update?  \n",
       "96  #lenovo Ideapad 330 15.6 inch with Ryzen 5, wi...  \n",
       "97  India effectively prohibits #Amazon and #Flipk...  \n",
       "98  #flipkart any update?\\nHope i Will receive it ...  \n",
       "99  India prohibits #Amazon and #Flipkart to act a...  \n",
       "\n",
       "[100 rows x 4 columns]"
      ]
     },
     "execution_count": 178,
     "metadata": {},
     "output_type": "execute_result"
    }
   ],
   "source": [
    "tweets_flipkart = pd.DataFrame()\n",
    "for res in flipkart:\n",
    "    text = res.text\n",
    "    date = res.created_at\n",
    "    screen_name = res.user.screen_name\n",
    "    name = res.user.name\n",
    "    \n",
    "    curr_row= {'text': text,\n",
    "               'date': date,\n",
    "               'screen_name': screen_name,\n",
    "               'name': name}\n",
    "    tweets_flipkart = tweets_flipkart.append(curr_row, ignore_index=True)\n",
    "tweets_flipkart"
   ]
  },
  {
   "cell_type": "code",
   "execution_count": null,
   "metadata": {},
   "outputs": [],
   "source": []
  }
 ],
 "metadata": {
  "kernelspec": {
   "display_name": "Python 3",
   "language": "python",
   "name": "python3"
  },
  "language_info": {
   "codemirror_mode": {
    "name": "ipython",
    "version": 3
   },
   "file_extension": ".py",
   "mimetype": "text/x-python",
   "name": "python",
   "nbconvert_exporter": "python",
   "pygments_lexer": "ipython3",
   "version": "3.7.2"
  }
 },
 "nbformat": 4,
 "nbformat_minor": 2
}
